{
 "cells": [
  {
   "cell_type": "code",
   "execution_count": 3,
   "metadata": {
    "collapsed": false
   },
   "outputs": [
    {
     "data": {
      "application/javascript": [
       "IPython.load_extensions('IPython-notebook-extensions-3.x/usability/python-markdown/main');\n",
       "IPython.load_extensions('IPython-notebook-extensions-3.x/usability/codefolding/main');"
      ],
      "text/plain": [
       "<IPython.core.display.Javascript object>"
      ]
     },
     "metadata": {},
     "output_type": "display_data"
    }
   ],
   "source": [
    "%%javascript\n",
    "IPython.load_extensions('IPython-notebook-extensions-3.x/usability/python-markdown/main');\n",
    "IPython.load_extensions('IPython-notebook-extensions-3.x/usability/codefolding/main');"
   ]
  },
  {
   "cell_type": "markdown",
   "metadata": {},
   "source": [
    "# Test Code Cell\n",
    "This section tests the ability to run Python inline using the a code cell.  The code cell displays the Python code in the resulting document and makes the results of the Python analysis available for later reference as shown below."
   ]
  },
  {
   "cell_type": "code",
   "execution_count": 2,
   "metadata": {
    "collapsed": true
   },
   "outputs": [],
   "source": [
    "x1 = 1\n",
    "x2 = 1\n",
    "y = x1 + x2"
   ]
  },
  {
   "cell_type": "markdown",
   "metadata": {
    "variables": {
     "x1": "1",
     "x2": "1",
     "y": "2"
    }
   },
   "source": [
    "The above code demonstrates that {{x1}} + {{x2}}  = {{y}}."
   ]
  },
  {
   "cell_type": "markdown",
   "metadata": {},
   "source": [
    "# Test Codefolding\n",
    "This section tests the ability to run Python inline using the codefolding extension.  The codefolding extenstion hides the content of code cells that start with a comment, thereby running the Python code without displaying the source in the resulting document.  This feature makes the results of the Python analysis available for later reference as shown below."
   ]
  },
  {
   "cell_type": "code",
   "execution_count": 4,
   "metadata": {
    "collapsed": true
   },
   "outputs": [],
   "source": [
    "# hidden code\n",
    "x3 = 2\n",
    "x4 = 2\n",
    "y2 = x3 + x4"
   ]
  },
  {
   "cell_type": "markdown",
   "metadata": {
    "code_folding": [
     0
    ],
    "variables": {
     "x3": "2",
     "x4": "2",
     "y2": "4"
    }
   },
   "source": [
    "The hidden code demonstrates that {{x3}} + {{x4}}  = {{y2}}."
   ]
  },
  {
   "cell_type": "markdown",
   "metadata": {},
   "source": [
    "# Test MatPlotLin Integration and Inline Plotting\n",
    "This section tests the ability to use plotting methods to create a basic plot and then include it in the document."
   ]
  },
  {
   "cell_type": "code",
   "execution_count": 6,
   "metadata": {
    "collapsed": false
   },
   "outputs": [
    {
     "data": {
      "text/plain": [
       "<matplotlib.text.Text at 0x7f4108867e80>"
      ]
     },
     "execution_count": 6,
     "metadata": {},
     "output_type": "execute_result"
    },
    {
     "data": {
      "image/png": "[encoded data removed]",
      "text/plain": [
       "<matplotlib.figure.Figure at 0x7f4121226668>"
      ]
     },
     "metadata": {},
     "output_type": "display_data"
    }
   ],
   "source": [
    "%matplotlib inline\n",
    "\n",
    "from numpy import *\n",
    "from pylab import *\n",
    "  \n",
    "# define the function to evaluate\n",
    "def f(x):\n",
    "  return x**2 +2*x + 3\n",
    "  \n",
    "range_begin = -5\n",
    "range_end = 5 \n",
    "x = linspace(range_begin, range_end, 1000)\n",
    "  \n",
    "clf()    \n",
    "plot(x, f(x), 'bo')\n",
    "xlabel('x')\n",
    "ylabel('f(x)')\n",
    "title('Demonstration Quadratic Plot')"
   ]
  },
  {
   "cell_type": "markdown",
   "metadata": {
    "variables": {
     "range_begin": "-5",
     "range_end": "5"
    }
   },
   "source": [
    "The code above calculates values for the quadratic equation: $$f(x) = x^2 +2x + 3$$ \n",
    "\n",
    "The code then runs this equation for the integer values from {{range_begin}} to {{range_end}} and plots these values in a newly generated plot above."
   ]
  },
  {
   "cell_type": "markdown",
   "metadata": {},
   "source": [
    "---\n",
    "This document is a work of Mach 30 and is licensed under the Creative Commons Attribution 3.0 Unported License. To view a copy of this license, visit http://creativecommons.org/licenses/by/3.0/."
   ]
  }
 ],
 "metadata": {
  "kernelspec": {
   "display_name": "Python 3",
   "language": "python",
   "name": "python3"
  },
  "language_info": {
   "codemirror_mode": {
    "name": "ipython",
    "version": 3
   },
   "file_extension": ".py",
   "mimetype": "text/x-python",
   "name": "python",
   "nbconvert_exporter": "python",
   "pygments_lexer": "ipython3",
   "version": "3.4.3"
  }
 },
 "nbformat": 4,
 "nbformat_minor": 0
}
